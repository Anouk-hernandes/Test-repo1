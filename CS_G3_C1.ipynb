{
  "nbformat": 4,
  "nbformat_minor": 0,
  "metadata": {
    "colab": {
      "provenance": []
    },
    "kernelspec": {
      "name": "python3",
      "display_name": "Python 3"
    },
    "language_info": {
      "name": "python"
    }
  },
  "cells": [
    {
      "cell_type": "code",
      "execution_count": null,
      "metadata": {
        "id": "Jp-1PUm80LoD"
      },
      "outputs": [],
      "source": [
        "text= input(\"where are you from?\")\n",
        "if text[0]==\"L\":\n",
        "  print(\"Capital L\")\n",
        "else:\n",
        "  print(\"something else\")\n",
        "if text[-1]==\".\":\n",
        "  print(\"dot\")\n",
        "else:\n",
        "  print(\"no dot\")"
      ]
    },
    {
      "cell_type": "code",
      "source": [],
      "metadata": {
        "id": "l5dccxlwWFpH"
      },
      "execution_count": null,
      "outputs": []
    },
    {
      "cell_type": "code",
      "source": [],
      "metadata": {
        "id": "BTeQlvwW6oBx"
      },
      "execution_count": null,
      "outputs": []
    }
  ]
}